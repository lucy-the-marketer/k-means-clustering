{
 "cells": [
  {
   "cell_type": "markdown",
   "metadata": {
    "slideshow": {
     "slide_type": "slide"
    }
   },
   "source": [
    "## Exercise 2: Cluster Analysis\n",
    "\n",
    "### 2.1. Analyzing the Customer Data Set\n",
    "\n",
    "#### 2.1.1 Load the customers dataset from the Excel file.\n",
    "Load the excel file into a dataframe and inspect the first few records.\n",
    "Remember to import the pandas package first! Then, call the ```read_excel()``` function to load the file."
   ]
  },
  {
   "cell_type": "code",
   "execution_count": null,
   "metadata": {
    "slideshow": {
     "slide_type": "-"
    }
   },
   "outputs": [],
   "source": [
    "# import pandas\n",
    "\n",
    "\n",
    "# load the file using the read_excel() function\n",
    "\n",
    "\n",
    "# show the first few records\n"
   ]
  },
  {
   "cell_type": "code",
   "execution_count": null,
   "metadata": {
    "scrolled": false
   },
   "outputs": [],
   "source": [
    "# import KMeans\n",
    "\n",
    "\n",
    "# import matplotlib\n",
    "\n",
    "\n",
    "# import preprocessing\n",
    "\n",
    "\n",
    "# create the normaliser\n",
    "\n",
    "\n",
    "# copy the dataframe before preprocessing so we can access the original values later\n",
    "\n",
    "\n",
    "# preprocess the features ItemsBought and ItemsReturned\n",
    "\n",
    "\n",
    "# setup a figure\n",
    "plt.figure(figsize=(10,10))\n",
    "\n",
    "# iterate over all values that we want to test for K\n",
    "for i in range(1,7):\n",
    "    # create the clusterer\n",
    "\n",
    "    \n",
    "    # create the clustering\n",
    "\n",
    "\n",
    "    # add a subplot\n",
    "    plt.subplot(3,2,i)\n",
    "    plt.tight_layout()\n",
    "    \n",
    "    # setup the labels of the subplot\n",
    "    plt.title(\"#clusters (K) = {}\".format(i))\n",
    "    plt.xlabel('ItemsBought')\n",
    "    plt.ylabel('ItemsReturned')\n",
    "    \n",
    "    # create the scatter plot\n",
    "\n",
    "\n",
    "# show the figure\n",
    "plt.show()"
   ]
  },
  {
   "cell_type": "markdown",
   "metadata": {
    "slideshow": {
     "slide_type": "subslide"
    }
   },
   "source": [
    "#####  What does the clustering tell you concerning your product portfolio?\n",
    "\n",
    "Run the clustering again with ```K=3```. Add the product ids to the plot using the ```annotate()``` function and interpret the results."
   ]
  },
  {
   "cell_type": "code",
   "execution_count": null,
   "metadata": {},
   "outputs": [],
   "source": [
    "# create the clusterer for K = 3\n",
    "\n",
    "\n",
    "# create the clustering\n",
    "\n",
    "\n",
    "# create a scatter plot\n",
    "\n",
    "\n",
    "# annotate each data point with its product id\n",
    "\n",
    "    \n",
    "# setup the labels of the plot\n",
    "plt.xlabel('ItemsBought')\n",
    "plt.ylabel('ItemsReturned')\n",
    "\n",
    "# show the plot\n",
    "plt.show()"
   ]
  },
  {
   "cell_type": "markdown",
   "metadata": {
    "slideshow": {
     "slide_type": "subslide"
    }
   },
   "source": [
    "#####  What does the clustering tell you concerning your marketing efforts in different regions?\n",
    "\n",
    "To answer this question, we simply plot again, but this time annotate the clusters with the zip code of the respective customers.\n",
    "Note that we can use the original dataset instead of the preprocessed one for plotting and still use the clusters created on the preprocessed data, as both datasets have the same ordering of records."
   ]
  },
  {
   "cell_type": "code",
   "execution_count": null,
   "metadata": {},
   "outputs": [],
   "source": [
    "# create the scatter plot\n",
    "\n",
    "\n",
    "# annotate each data point with the zip code value\n",
    "\n",
    "    \n",
    "# setup the plot labels\n",
    "plt.xlabel('ItemsBought')\n",
    "plt.ylabel('ItemsReturned')\n",
    "\n",
    "# show the plot\n",
    "plt.show()"
   ]
  }
 ],
 "metadata": {
  "celltoolbar": "Slideshow",
  "kernelspec": {
   "display_name": "Python 3",
   "language": "python",
   "name": "python3"
  },
  "language_info": {
   "codemirror_mode": {
    "name": "ipython",
    "version": 3
   },
   "file_extension": ".py",
   "mimetype": "text/x-python",
   "name": "python",
   "nbconvert_exporter": "python",
   "pygments_lexer": "ipython3",
   "version": "3.7.6"
  }
 },
 "nbformat": 4,
 "nbformat_minor": 2
}
