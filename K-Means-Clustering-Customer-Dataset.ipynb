{
 "cells": [
  {
   "cell_type": "markdown",
   "metadata": {
    "slideshow": {
     "slide_type": "slide"
    }
   },
   "source": [
    "## K-Means Clustering Exercise\n",
    "\n",
    "#### How does a change in K value affect clustering?"
   ]
  },
  {
   "cell_type": "code",
   "execution_count": null,
   "metadata": {
    "slideshow": {
     "slide_type": "-"
    }
   },
   "outputs": [],
   "source": [
    "# import pandas package\n",
    "\n",
    "\n",
    "# load excel file using read_excel() function\n",
    "\n",
    "\n",
    "# see the first few lines using head() function\n"
   ]
  },
  {
   "cell_type": "code",
   "execution_count": null,
   "metadata": {
    "scrolled": false
   },
   "outputs": [],
   "source": [
    "# import KMeans, matplotlib.byplot, preprocessing package\n",
    "\n",
    "\n",
    "# copy the dataframe before preprocessing using copy() function (don't do it on the original dataframe)\n",
    "\n",
    "\n",
    "# create the normaliser 'scaler' using preprocessing.MinMaxScaler() function\n",
    "\n",
    "\n",
    "# preprocess following features: 'ItemsBought' and 'ItemsReturned' using fit_transform() function\n",
    "\n",
    "\n",
    "# setup a figure. You can maniplate the numbers to adjust size\n",
    "plt.figure(figsize=(10,10))\n",
    "\n",
    "# iterate them to test K values \n",
    "for i in range(1,7):\n",
    "    # create cluster\n",
    "\n",
    "\n",
    "    # add a subplot with 2 rows and 3 columns (index = i)\n",
    "    plt.subplot(3,2,i)\n",
    "    plt.tight_layout()\n",
    "    \n",
    "    # labeling the subplot\n",
    "    plt.title(\"K value = {}\".format(i))\n",
    "    plt.xlabel('ItemsBought')\n",
    "    plt.ylabel('ItemsReturned')\n",
    "    \n",
    "    # plot the scatters\n",
    "\n",
    "\n",
    "# show the figure\n",
    "plt.show()"
   ]
  },
  {
   "cell_type": "markdown",
   "metadata": {
    "slideshow": {
     "slide_type": "subslide"
    }
   },
   "source": [
    "#####  Examine the relationship between each cluster and product ID"
   ]
  },
  {
   "cell_type": "code",
   "execution_count": null,
   "metadata": {},
   "outputs": [],
   "source": [
    "# create the clusterer for K = 3\n",
    "\n",
    "\n",
    "# create the clustering\n",
    "\n",
    "\n",
    "# plot the scatters\n",
    "\n",
    "\n",
    "# labeling each data point with its product id\n",
    "\n",
    "    \n",
    "# setup the labels of the plot\n",
    "plt.xlabel('ItemsBought')\n",
    "plt.ylabel('ItemsReturned')\n",
    "plt.show()"
   ]
  },
  {
   "cell_type": "code",
   "execution_count": null,
   "metadata": {},
   "outputs": [],
   "source": [
    "# extracct data with cluster id = 1\n"
   ]
  },
  {
   "cell_type": "markdown",
   "metadata": {
    "slideshow": {
     "slide_type": "subslide"
    }
   },
   "source": [
    "#####  Examine the relationship between each cluster and region."
   ]
  },
  {
   "cell_type": "code",
   "execution_count": null,
   "metadata": {},
   "outputs": [],
   "source": [
    "# plot the scatters\n",
    "\n",
    "\n",
    "# Labeling each data point with the zip code\n",
    "\n",
    "    \n",
    "plt.xlabel('ItemsBought')\n",
    "plt.ylabel('ItemsReturned')\n",
    "plt.show()"
   ]
  }
 ],
 "metadata": {
  "celltoolbar": "Slideshow",
  "kernelspec": {
   "display_name": "Python 3",
   "language": "python",
   "name": "python3"
  },
  "language_info": {
   "codemirror_mode": {
    "name": "ipython",
    "version": 3
   },
   "file_extension": ".py",
   "mimetype": "text/x-python",
   "name": "python",
   "nbconvert_exporter": "python",
   "pygments_lexer": "ipython3",
   "version": "3.8.5"
  }
 },
 "nbformat": 4,
 "nbformat_minor": 2
}
